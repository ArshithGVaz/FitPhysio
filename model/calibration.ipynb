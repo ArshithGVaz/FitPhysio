{
 "cells": [
  {
   "cell_type": "code",
   "execution_count": 75,
   "metadata": {},
   "outputs": [
    {
     "name": "stdout",
     "output_type": "stream",
     "text": [
      "\n",
      "image 1/1 c:\\Users\\uprao\\OneDrive\\Desktop\\MotionMatch\\model\\trainer.png: 96x160 1 person, 89.3ms\n",
      "Speed: 0.0ms preprocess, 89.3ms inference, 1.0ms postprocess per image at shape (1, 3, 96, 160)\n"
     ]
    }
   ],
   "source": [
    "from ultralytics import YOLO\n",
    "\n",
    "# Load a pretrained YOLO11n-pose Pose model\n",
    "model = YOLO(\"yolo11m-pose.pt\")\n",
    "\n",
    "# Run inference on an image\n",
    "results = model(\"trainer.png\", conf=0.3, imgsz=160, max_det=1)  # results list"
   ]
  },
  {
   "cell_type": "code",
   "execution_count": 76,
   "metadata": {},
   "outputs": [
    {
     "name": "stdout",
     "output_type": "stream",
     "text": [
      "Calib image\n",
      "[[[     936.15       295.6]\n",
      "  [     952.64      280.99]\n",
      "  [     920.91      280.47]\n",
      "  [     972.91      296.14]\n",
      "  [     898.56       293.2]\n",
      "  [     1000.7      399.51]\n",
      "  [     845.69      386.08]\n",
      "  [     1072.7      494.82]\n",
      "  [     755.89      459.27]\n",
      "  [     1143.8      555.83]\n",
      "  [     685.25      527.79]\n",
      "  [     964.99      630.74]\n",
      "  [     864.06      628.08]\n",
      "  [     975.16      811.23]\n",
      "  [     850.28      818.19]\n",
      "  [     983.67      965.16]\n",
      "  [     825.68      987.27]]]\n"
     ]
    }
   ],
   "source": [
    "for r in results:\n",
    "    points1 = r.keypoints.xy.numpy()\n",
    "    print(\"Calib image\")\n",
    "    print(points1)  # print the Keypoints object containing the detected keypoints"
   ]
  },
  {
   "cell_type": "code",
   "execution_count": 77,
   "metadata": {},
   "outputs": [
    {
     "name": "stdout",
     "output_type": "stream",
     "text": [
      "\n",
      "image 1/1 c:\\Users\\uprao\\OneDrive\\Desktop\\MotionMatch\\model\\user.png: 96x160 1 person, 153.6ms\n",
      "Speed: 2.1ms preprocess, 153.6ms inference, 2.0ms postprocess per image at shape (1, 3, 96, 160)\n",
      "Test image\n",
      "[[[     967.78      259.41]\n",
      "  [     983.98      245.53]\n",
      "  [     952.92      244.66]\n",
      "  [     1002.3       254.1]\n",
      "  [     932.35      252.08]\n",
      "  [     1030.7      341.25]\n",
      "  [      884.1      338.92]\n",
      "  [     1094.9      442.18]\n",
      "  [     797.27      428.62]\n",
      "  [     1184.5      519.01]\n",
      "  [     710.47      478.71]\n",
      "  [     988.19      578.29]\n",
      "  [     897.77      577.84]\n",
      "  [     983.68      761.88]\n",
      "  [     896.69      766.31]\n",
      "  [     982.91      939.92]\n",
      "  [     898.39      949.14]]]\n"
     ]
    }
   ],
   "source": [
    "results2 = model(\"user.png\", conf=0.3, imgsz=160, max_det=1)  # results list\n",
    "for r in results2:\n",
    "    points2 = r.keypoints.xy.numpy()\n",
    "    print(\"Test image\")\n",
    "    print(points2)  # print the Keypoints object containing the detected keypoints"
   ]
  },
  {
   "cell_type": "code",
   "execution_count": 6,
   "metadata": {},
   "outputs": [
    {
     "name": "stdout",
     "output_type": "stream",
     "text": [
      "[     1034.7      291.68]\n",
      "[     240.41      116.15]\n"
     ]
    }
   ],
   "source": [
    "print(points1[0][5])\n",
    "print(points2[0][5])"
   ]
  },
  {
   "cell_type": "code",
   "execution_count": 78,
   "metadata": {},
   "outputs": [
    {
     "name": "stdout",
     "output_type": "stream",
     "text": [
      "Calib image scaled\n",
      "[[    -64.563     -103.91]\n",
      " [    -48.066     -118.52]\n",
      " [    -79.797     -119.04]\n",
      " [      -27.8     -103.37]\n",
      " [    -102.15     -106.31]\n",
      " [          0           0]\n",
      " [    -155.02     -13.426]\n",
      " [     71.974      95.308]\n",
      " [    -244.82      59.761]\n",
      " [     143.11      156.32]\n",
      " [    -315.46      128.28]\n",
      " [    -35.717      231.24]\n",
      " [    -136.64      228.57]\n",
      " [    -25.544      411.72]\n",
      " [    -150.43      418.68]\n",
      " [    -17.035      565.65]\n",
      " [    -175.03      587.76]]\n"
     ]
    }
   ],
   "source": [
    "points1[0][:, 0] -= points1[0][5, 0]\n",
    "points1[0][:, 1] -= points1[0][5, 1]\n",
    "print(\"Calib image scaled\")\n",
    "print(points1[0])"
   ]
  },
  {
   "cell_type": "code",
   "execution_count": 79,
   "metadata": {},
   "outputs": [
    {
     "name": "stdout",
     "output_type": "stream",
     "text": [
      "Test image scaled\n",
      "[[    -62.915     -81.838]\n",
      " [    -46.716     -95.717]\n",
      " [    -77.783     -96.588]\n",
      " [    -28.357     -87.145]\n",
      " [    -98.351     -89.172]\n",
      " [          0           0]\n",
      " [     -146.6      -2.325]\n",
      " [     64.167      100.93]\n",
      " [    -233.43      87.372]\n",
      " [     153.84      177.76]\n",
      " [    -320.23      137.46]\n",
      " [     -42.51      237.04]\n",
      " [    -132.92      236.59]\n",
      " [    -47.019      420.63]\n",
      " [       -134      425.07]\n",
      " [    -47.783      598.68]\n",
      " [    -132.31      607.89]]\n"
     ]
    }
   ],
   "source": [
    "points2[0][:, 0] -= points2[0][5, 0]\n",
    "points2[0][:, 1] -= points2[0][5, 1]\n",
    "print(\"Test image scaled\")\n",
    "print(points2[0])"
   ]
  },
  {
   "cell_type": "code",
   "execution_count": 80,
   "metadata": {},
   "outputs": [
    {
     "name": "stdout",
     "output_type": "stream",
     "text": [
      "[[    -1.6471     -22.071]\n",
      " [    -1.3505     -22.799]\n",
      " [    -2.0145     -22.453]\n",
      " [    0.55756      -16.22]\n",
      " [    -3.8005     -17.142]\n",
      " [          0           0]\n",
      " [    -8.4227     -11.101]\n",
      " [     7.8069      -5.621]\n",
      " [     -11.39     -27.611]\n",
      " [    -10.731     -21.443]\n",
      " [     4.7763     -9.1859]\n",
      " [     6.7936      -5.806]\n",
      " [    -3.7186     -8.0183]\n",
      " [     21.475     -8.9074]\n",
      " [    -16.424     -6.3875]\n",
      " [     30.748      -33.03]\n",
      " [     -42.72      -20.13]]\n"
     ]
    }
   ],
   "source": [
    "delta = points1[0] - points2[0]\n",
    "print(delta)"
   ]
  },
  {
   "cell_type": "code",
   "execution_count": 83,
   "metadata": {},
   "outputs": [],
   "source": [
    "import pickle\n",
    "\n",
    "file = open(\"scale.pkl\", \"wb\")\n",
    "\n",
    "# dump information to that file\n",
    "pickle.dump(delta, file)"
   ]
  },
  {
   "cell_type": "code",
   "execution_count": 81,
   "metadata": {},
   "outputs": [
    {
     "name": "stdout",
     "output_type": "stream",
     "text": [
      "[[    -64.563     -103.91]\n",
      " [    -48.066     -118.52]\n",
      " [    -79.797     -119.04]\n",
      " [      -27.8     -103.37]\n",
      " [    -102.15     -106.31]\n",
      " [          0           0]\n",
      " [    -155.02     -13.426]\n",
      " [     71.974      95.308]\n",
      " [    -244.82      59.761]\n",
      " [     143.11      156.32]\n",
      " [    -315.46      128.28]\n",
      " [    -35.717      231.24]\n",
      " [    -136.64      228.57]\n",
      " [    -25.544      411.72]\n",
      " [    -150.43      418.68]\n",
      " [    -17.035      565.65]\n",
      " [    -175.03      587.76]]\n"
     ]
    }
   ],
   "source": [
    "points2[0] += delta\n",
    "print(points2[0])"
   ]
  },
  {
   "cell_type": "code",
   "execution_count": 82,
   "metadata": {},
   "outputs": [
    {
     "name": "stdout",
     "output_type": "stream",
     "text": [
      "0.0\n"
     ]
    }
   ],
   "source": [
    "import math\n",
    "\n",
    "# Total Euclidean distance between all points of 2 arays\n",
    "diff = 0\n",
    "for i in range(0, 17):\n",
    "    # print(math.dist(points1[0][i], points2[0][i]))\n",
    "    diff += math.dist(points1[0][i], points2[0][i])\n",
    "\n",
    "print(diff)"
   ]
  },
  {
   "cell_type": "code",
   "execution_count": null,
   "metadata": {},
   "outputs": [],
   "source": []
  }
 ],
 "metadata": {
  "kernelspec": {
   "display_name": "base",
   "language": "python",
   "name": "python3"
  },
  "language_info": {
   "codemirror_mode": {
    "name": "ipython",
    "version": 3
   },
   "file_extension": ".py",
   "mimetype": "text/x-python",
   "name": "python",
   "nbconvert_exporter": "python",
   "pygments_lexer": "ipython3",
   "version": "3.11.5"
  }
 },
 "nbformat": 4,
 "nbformat_minor": 2
}
