{
 "cells": [
  {
   "cell_type": "code",
   "execution_count": 1,
   "metadata": {},
   "outputs": [
    {
     "name": "stdout",
     "output_type": "stream",
     "text": [
      "\n",
      "image 1/1 c:\\Users\\uprao\\OneDrive\\Desktop\\MotionMatch\\model\\tframe1.png: 96x160 1 person, 108.6ms\n",
      "Speed: 0.5ms preprocess, 108.6ms inference, 2.0ms postprocess per image at shape (1, 3, 96, 160)\n",
      "Results saved to \u001b[1mruns\\pose\\predict4\u001b[0m\n"
     ]
    }
   ],
   "source": [
    "from ultralytics import YOLO\n",
    "\n",
    "# Load a pretrained YOLO11n-pose Pose model\n",
    "model = YOLO(\"yolo11m-pose.pt\")\n",
    "\n",
    "# Run inference on an image\n",
    "results = model(\"tframe1.png\", conf=0.3, imgsz=160, max_det=1, save=True)  # results list"
   ]
  },
  {
   "cell_type": "code",
   "execution_count": 2,
   "metadata": {},
   "outputs": [
    {
     "name": "stdout",
     "output_type": "stream",
     "text": [
      "Calib image\n",
      "[[[     950.82      368.16]\n",
      "  [     962.82      354.31]\n",
      "  [     936.17      353.59]\n",
      "  [     974.55      365.96]\n",
      "  [     910.03      362.95]\n",
      "  [     997.05      459.97]\n",
      "  [     866.19      455.27]\n",
      "  [     1017.2      570.62]\n",
      "  [     836.81      563.96]\n",
      "  [     1022.8      675.67]\n",
      "  [     836.25      663.35]\n",
      "  [     967.71      676.95]\n",
      "  [     881.57      675.57]\n",
      "  [     957.33      851.62]\n",
      "  [     880.85       853.3]\n",
      "  [     945.87      1002.2]\n",
      "  [     882.83      1005.7]]]\n"
     ]
    }
   ],
   "source": [
    "for r in results:\n",
    "    points1 = r.keypoints.xy.numpy()\n",
    "    print(\"Calib image\")\n",
    "    print(points1)  # print the Keypoints object containing the detected keypoints"
   ]
  },
  {
   "cell_type": "code",
   "execution_count": 4,
   "metadata": {},
   "outputs": [
    {
     "name": "stdout",
     "output_type": "stream",
     "text": [
      "\n",
      "image 1/1 c:\\Users\\uprao\\OneDrive\\Desktop\\MotionMatch\\model\\uframe1.png: 96x160 1 person, 142.1ms\n",
      "Speed: 2.0ms preprocess, 142.1ms inference, 0.0ms postprocess per image at shape (1, 3, 96, 160)\n",
      "Results saved to \u001b[1mruns\\pose\\predict4\u001b[0m\n",
      "Test image\n",
      "[[[     997.15      360.81]\n",
      "  [     1011.8      346.19]\n",
      "  [     981.86      345.78]\n",
      "  [     1026.8      358.12]\n",
      "  [     958.14      357.21]\n",
      "  [     1052.9      451.29]\n",
      "  [     923.83      456.15]\n",
      "  [     1077.1      562.16]\n",
      "  [     894.67      576.18]\n",
      "  [     1090.9      661.85]\n",
      "  [     872.84       684.1]\n",
      "  [       1028      664.26]\n",
      "  [      944.3      666.72]\n",
      "  [     1032.6       815.5]\n",
      "  [     957.08      819.03]\n",
      "  [     1022.5      948.06]\n",
      "  [      963.1      953.92]]]\n"
     ]
    }
   ],
   "source": [
    "results2 = model(\"uframe1.png\", conf=0.3, imgsz=160, max_det=1, save=True)  # results list\n",
    "for r in results2:\n",
    "    points2 = r.keypoints.xy.numpy()\n",
    "    print(\"Test image\")\n",
    "    print(points2)  # print the Keypoints object containing the detected keypoints"
   ]
  },
  {
   "cell_type": "code",
   "execution_count": 5,
   "metadata": {},
   "outputs": [
    {
     "name": "stdout",
     "output_type": "stream",
     "text": [
      "Calib image scaled\n",
      "[[     -46.23     -91.811]\n",
      " [    -34.227     -105.67]\n",
      " [    -60.879     -106.39]\n",
      " [    -22.492     -94.009]\n",
      " [     -87.02     -97.028]\n",
      " [          0           0]\n",
      " [    -130.86     -4.7025]\n",
      " [     20.166      110.65]\n",
      " [    -160.24      103.99]\n",
      " [     25.749      215.69]\n",
      " [     -160.8      203.38]\n",
      " [    -29.332      216.98]\n",
      " [    -115.47      215.59]\n",
      " [    -39.721      391.64]\n",
      " [     -116.2      393.33]\n",
      " [    -51.178       542.2]\n",
      " [    -114.22      545.69]]\n"
     ]
    }
   ],
   "source": [
    "points1[0][:, 0] -= points1[0][5, 0]\n",
    "points1[0][:, 1] -= points1[0][5, 1]\n",
    "print(\"Calib image scaled\")\n",
    "print(points1[0])"
   ]
  },
  {
   "cell_type": "code",
   "execution_count": 6,
   "metadata": {},
   "outputs": [
    {
     "name": "stdout",
     "output_type": "stream",
     "text": [
      "Test image scaled\n",
      "[[    -55.706     -90.485]\n",
      " [    -41.084      -105.1]\n",
      " [    -70.995     -105.52]\n",
      " [    -26.033     -93.172]\n",
      " [    -94.718     -94.083]\n",
      " [          0           0]\n",
      " [    -129.03      4.8564]\n",
      " [     24.261      110.87]\n",
      " [    -158.19      124.88]\n",
      " [     37.994      210.55]\n",
      " [    -180.02      232.81]\n",
      " [    -24.816      212.96]\n",
      " [    -108.56      215.43]\n",
      " [    -20.227       364.2]\n",
      " [    -95.783      367.74]\n",
      " [    -30.354      496.76]\n",
      " [    -89.755      502.62]]\n"
     ]
    }
   ],
   "source": [
    "points2[0][:, 0] -= points2[0][5, 0]\n",
    "points2[0][:, 1] -= points2[0][5, 1]\n",
    "print(\"Test image scaled\")\n",
    "print(points2[0])"
   ]
  },
  {
   "cell_type": "code",
   "execution_count": 7,
   "metadata": {},
   "outputs": [],
   "source": [
    "import pickle\n",
    "\n",
    "file = open(\"scale.pkl\", \"rb\")\n",
    "delta = pickle.load(file)"
   ]
  },
  {
   "cell_type": "code",
   "execution_count": 8,
   "metadata": {},
   "outputs": [
    {
     "name": "stdout",
     "output_type": "stream",
     "text": [
      "[[    -57.353     -112.56]\n",
      " [    -42.435      -127.9]\n",
      " [    -73.009     -127.97]\n",
      " [    -25.476     -109.39]\n",
      " [    -98.519     -111.22]\n",
      " [          0           0]\n",
      " [    -137.46     -6.2443]\n",
      " [     32.068      105.24]\n",
      " [    -169.58      97.271]\n",
      " [     27.263      189.11]\n",
      " [    -175.24      223.62]\n",
      " [    -18.022      207.16]\n",
      " [    -112.28      207.41]\n",
      " [      1.248      355.29]\n",
      " [    -112.21      361.35]\n",
      " [    0.39423      463.73]\n",
      " [    -132.48      482.49]]\n"
     ]
    }
   ],
   "source": [
    "points2[0] += delta\n",
    "print(points2[0])"
   ]
  },
  {
   "cell_type": "code",
   "execution_count": 10,
   "metadata": {},
   "outputs": [
    {
     "name": "stdout",
     "output_type": "stream",
     "text": [
      "353.2814813438586\n"
     ]
    }
   ],
   "source": [
    "import math\n",
    "\n",
    "diff = 0\n",
    "for i in range(5, 17):\n",
    "    # print(math.dist(points1[0][i], points2[0][i]))\n",
    "    diff += math.dist(points1[0][i], points2[0][i])\n",
    "\n",
    "print(diff)"
   ]
  },
  {
   "cell_type": "code",
   "execution_count": null,
   "metadata": {},
   "outputs": [],
   "source": []
  }
 ],
 "metadata": {
  "kernelspec": {
   "display_name": "base",
   "language": "python",
   "name": "python3"
  },
  "language_info": {
   "codemirror_mode": {
    "name": "ipython",
    "version": 3
   },
   "file_extension": ".py",
   "mimetype": "text/x-python",
   "name": "python",
   "nbconvert_exporter": "python",
   "pygments_lexer": "ipython3",
   "version": "3.11.5"
  }
 },
 "nbformat": 4,
 "nbformat_minor": 2
}
